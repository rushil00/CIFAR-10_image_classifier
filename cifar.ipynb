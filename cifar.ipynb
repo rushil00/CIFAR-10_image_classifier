{
 "cells": [
  {
   "cell_type": "markdown",
   "metadata": {},
   "source": [
    "# Import Required Libraries\n",
    "Here, we import the necessary libraries for working with PyTorch and torchvision. These libraries provide tools for creating and training deep learning models, loading datasets, and applying transformations to the data."
   ]
  },
  {
   "cell_type": "code",
   "execution_count": 1,
   "metadata": {},
   "outputs": [],
   "source": [
    "import numpy as np\n",
    "import torch\n",
    "import torch.nn as nn\n",
    "import torch.optim as optim\n",
    "import torchvision\n",
    "import torchvision.transforms as transforms\n",
    "from torchvision.models import resnet18\n",
    "from torch.utils.data import DataLoader"
   ]
  },
  {
   "cell_type": "markdown",
   "metadata": {},
   "source": [
    "# Set Device and Batch Size\n",
    "We set the device to GPU if it is available; otherwise, we use the CPU. The device determines where the computations will be performed. We also define the batch size, which specifies the number of images processed together during each training iteration."
   ]
  },
  {
   "cell_type": "code",
   "execution_count": 9,
   "metadata": {},
   "outputs": [
    {
     "name": "stdout",
     "output_type": "stream",
     "text": [
      "cuda\n"
     ]
    }
   ],
   "source": [
    "device = torch.device(\"cuda\" if torch.cuda.is_available() else \"cpu\")\n",
    "batch_size = 8\n",
    "print(device)"
   ]
  },
  {
   "cell_type": "markdown",
   "metadata": {},
   "source": [
    "# Now we start the processes"
   ]
  },
  {
   "cell_type": "code",
   "execution_count": 10,
   "metadata": {},
   "outputs": [
    {
     "data": {
      "text/plain": [
       "<torch._C.Generator at 0x1dcc652cad0>"
      ]
     },
     "execution_count": 10,
     "metadata": {},
     "output_type": "execute_result"
    }
   ],
   "source": [
    "# selecting the random seed to ensure reproducability of the results\n",
    "torch.manual_seed(42)"
   ]
  },
  {
   "cell_type": "code",
   "execution_count": 11,
   "metadata": {},
   "outputs": [
    {
     "name": "stdout",
     "output_type": "stream",
     "text": [
      "Files already downloaded and verified\n"
     ]
    }
   ],
   "source": [
    "#lets split the dataset into train and test sets while loading with the Pytorch enabled functionalities\n",
    "from torch.utils.data import random_split\n",
    "transform = transforms.Compose([\n",
    "    transforms.ToTensor(),\n",
    "    transforms.Normalize(mean=[0.5, 0.5, 0.5], std=[0.5, 0.5, 0.5])\n",
    "])\n",
    "\n",
    "\n",
    "train_dataset = torchvision.datasets.CIFAR10(root='./data', train=True, download=True, transform=transform)\n",
    "train_size = 40000\n",
    "val_size = len(train_dataset) - train_size\n",
    "train_set, val_set = random_split(train_dataset, [train_size, val_size])\n",
    "#print(train_size, val_size) #they are 40000 and 10000 respectively."
   ]
  },
  {
   "cell_type": "markdown",
   "metadata": {},
   "source": [
    "<h3>        Load the Data using DataLoaders</h3>\n",
    "<li type='square'> They are used to load the data in batches during training and validation. The DataLoader class from PyTorch's torch.utils.data module provides this functionality. We create separate data loaders for the training set (train_loader) and validation set (val_loader) with the specified batch size. The shuffle argument is set to True for the training loader to shuffle the data, and False for the validation loader."
   ]
  },
  {
   "cell_type": "code",
   "execution_count": 12,
   "metadata": {},
   "outputs": [
    {
     "name": "stdout",
     "output_type": "stream",
     "text": [
      "Files already downloaded and verified\n"
     ]
    }
   ],
   "source": [
    "train_loader = DataLoader(train_set, batch_size=batch_size, shuffle=True, num_workers=2)\n",
    "val_loader = DataLoader(val_set, batch_size=batch_size, shuffle=False, num_workers=2)\n",
    "testset = torchvision.datasets.CIFAR10(root='./data', train=False, download=True, transform=transform)\n",
    "testloader = torch.utils.data.DataLoader(testset, batch_size=64, shuffle=False, num_workers=2)\n"
   ]
  },
  {
   "cell_type": "markdown",
   "metadata": {},
   "source": [
    "# <h2>Defining the CNN Model</h2>\n",
    "<h3><li type=\"1\">Using the ResNet Architecture\n",
    "<li type= \"1\"> Using the LeNet Architecture</h3>"
   ]
  },
  {
   "cell_type": "markdown",
   "metadata": {},
   "source": [
    "# <h3>ResNet (pretrained model)"
   ]
  },
  {
   "cell_type": "markdown",
   "metadata": {},
   "source": [
    "<li>We define the CNN model using the ResNet-18 architecture. The resnet18 function from torchvision.models provides a pre-trained ResNet-18 model. \n",
    "<li>We modify the last fully connected layer (model.fc) to have 10 output classes corresponding to the CIFAR-10 dataset. \n",
    "<li>The number of input features (num_features) is obtained from the previous fully connected layer. We move the model to the specified device (GPU or CPU) using the to method."
   ]
  },
  {
   "cell_type": "code",
   "execution_count": 13,
   "metadata": {},
   "outputs": [
    {
     "name": "stdout",
     "output_type": "stream",
     "text": [
      "1000\n",
      "10\n"
     ]
    }
   ],
   "source": [
    "model = torchvision.models.resnet18(pretrained=False)\n",
    "num_features = model.fc.in_features\n",
    "print(model.fc.out_features)\n",
    "model.fc = nn.Linear(num_features, 10)  # Modify the last layer for 10 output classes\n",
    "print(model.fc.out_features)\n"
   ]
  },
  {
   "cell_type": "markdown",
   "metadata": {},
   "source": [
    "<h3>We define Loss function and Optimizer</h3>\n",
    "<li>We define the loss function, which is the criterion that the model will optimize. \n",
    "<li>In this case, we use the cross-entropy loss (nn.CrossEntropyLoss), which is commonly used for multi-class classification problems. \n",
    "<li>We also define the optimizer (optim.SGD), which implements stochastic gradient descent. \n",
    "<ol><li>It will update the model parameters based on the computed gradients during training. \n",
    "<li>We set the learning rate (lr) and momentum values for the optimizer."
   ]
  },
  {
   "cell_type": "code",
   "execution_count": 14,
   "metadata": {},
   "outputs": [
    {
     "data": {
      "text/plain": [
       "ResNet(\n",
       "  (conv1): Conv2d(3, 64, kernel_size=(7, 7), stride=(2, 2), padding=(3, 3), bias=False)\n",
       "  (bn1): BatchNorm2d(64, eps=1e-05, momentum=0.1, affine=True, track_running_stats=True)\n",
       "  (relu): ReLU(inplace=True)\n",
       "  (maxpool): MaxPool2d(kernel_size=3, stride=2, padding=1, dilation=1, ceil_mode=False)\n",
       "  (layer1): Sequential(\n",
       "    (0): BasicBlock(\n",
       "      (conv1): Conv2d(64, 64, kernel_size=(3, 3), stride=(1, 1), padding=(1, 1), bias=False)\n",
       "      (bn1): BatchNorm2d(64, eps=1e-05, momentum=0.1, affine=True, track_running_stats=True)\n",
       "      (relu): ReLU(inplace=True)\n",
       "      (conv2): Conv2d(64, 64, kernel_size=(3, 3), stride=(1, 1), padding=(1, 1), bias=False)\n",
       "      (bn2): BatchNorm2d(64, eps=1e-05, momentum=0.1, affine=True, track_running_stats=True)\n",
       "    )\n",
       "    (1): BasicBlock(\n",
       "      (conv1): Conv2d(64, 64, kernel_size=(3, 3), stride=(1, 1), padding=(1, 1), bias=False)\n",
       "      (bn1): BatchNorm2d(64, eps=1e-05, momentum=0.1, affine=True, track_running_stats=True)\n",
       "      (relu): ReLU(inplace=True)\n",
       "      (conv2): Conv2d(64, 64, kernel_size=(3, 3), stride=(1, 1), padding=(1, 1), bias=False)\n",
       "      (bn2): BatchNorm2d(64, eps=1e-05, momentum=0.1, affine=True, track_running_stats=True)\n",
       "    )\n",
       "  )\n",
       "  (layer2): Sequential(\n",
       "    (0): BasicBlock(\n",
       "      (conv1): Conv2d(64, 128, kernel_size=(3, 3), stride=(2, 2), padding=(1, 1), bias=False)\n",
       "      (bn1): BatchNorm2d(128, eps=1e-05, momentum=0.1, affine=True, track_running_stats=True)\n",
       "      (relu): ReLU(inplace=True)\n",
       "      (conv2): Conv2d(128, 128, kernel_size=(3, 3), stride=(1, 1), padding=(1, 1), bias=False)\n",
       "      (bn2): BatchNorm2d(128, eps=1e-05, momentum=0.1, affine=True, track_running_stats=True)\n",
       "      (downsample): Sequential(\n",
       "        (0): Conv2d(64, 128, kernel_size=(1, 1), stride=(2, 2), bias=False)\n",
       "        (1): BatchNorm2d(128, eps=1e-05, momentum=0.1, affine=True, track_running_stats=True)\n",
       "      )\n",
       "    )\n",
       "    (1): BasicBlock(\n",
       "      (conv1): Conv2d(128, 128, kernel_size=(3, 3), stride=(1, 1), padding=(1, 1), bias=False)\n",
       "      (bn1): BatchNorm2d(128, eps=1e-05, momentum=0.1, affine=True, track_running_stats=True)\n",
       "      (relu): ReLU(inplace=True)\n",
       "      (conv2): Conv2d(128, 128, kernel_size=(3, 3), stride=(1, 1), padding=(1, 1), bias=False)\n",
       "      (bn2): BatchNorm2d(128, eps=1e-05, momentum=0.1, affine=True, track_running_stats=True)\n",
       "    )\n",
       "  )\n",
       "  (layer3): Sequential(\n",
       "    (0): BasicBlock(\n",
       "      (conv1): Conv2d(128, 256, kernel_size=(3, 3), stride=(2, 2), padding=(1, 1), bias=False)\n",
       "      (bn1): BatchNorm2d(256, eps=1e-05, momentum=0.1, affine=True, track_running_stats=True)\n",
       "      (relu): ReLU(inplace=True)\n",
       "      (conv2): Conv2d(256, 256, kernel_size=(3, 3), stride=(1, 1), padding=(1, 1), bias=False)\n",
       "      (bn2): BatchNorm2d(256, eps=1e-05, momentum=0.1, affine=True, track_running_stats=True)\n",
       "      (downsample): Sequential(\n",
       "        (0): Conv2d(128, 256, kernel_size=(1, 1), stride=(2, 2), bias=False)\n",
       "        (1): BatchNorm2d(256, eps=1e-05, momentum=0.1, affine=True, track_running_stats=True)\n",
       "      )\n",
       "    )\n",
       "    (1): BasicBlock(\n",
       "      (conv1): Conv2d(256, 256, kernel_size=(3, 3), stride=(1, 1), padding=(1, 1), bias=False)\n",
       "      (bn1): BatchNorm2d(256, eps=1e-05, momentum=0.1, affine=True, track_running_stats=True)\n",
       "      (relu): ReLU(inplace=True)\n",
       "      (conv2): Conv2d(256, 256, kernel_size=(3, 3), stride=(1, 1), padding=(1, 1), bias=False)\n",
       "      (bn2): BatchNorm2d(256, eps=1e-05, momentum=0.1, affine=True, track_running_stats=True)\n",
       "    )\n",
       "  )\n",
       "  (layer4): Sequential(\n",
       "    (0): BasicBlock(\n",
       "      (conv1): Conv2d(256, 512, kernel_size=(3, 3), stride=(2, 2), padding=(1, 1), bias=False)\n",
       "      (bn1): BatchNorm2d(512, eps=1e-05, momentum=0.1, affine=True, track_running_stats=True)\n",
       "      (relu): ReLU(inplace=True)\n",
       "      (conv2): Conv2d(512, 512, kernel_size=(3, 3), stride=(1, 1), padding=(1, 1), bias=False)\n",
       "      (bn2): BatchNorm2d(512, eps=1e-05, momentum=0.1, affine=True, track_running_stats=True)\n",
       "      (downsample): Sequential(\n",
       "        (0): Conv2d(256, 512, kernel_size=(1, 1), stride=(2, 2), bias=False)\n",
       "        (1): BatchNorm2d(512, eps=1e-05, momentum=0.1, affine=True, track_running_stats=True)\n",
       "      )\n",
       "    )\n",
       "    (1): BasicBlock(\n",
       "      (conv1): Conv2d(512, 512, kernel_size=(3, 3), stride=(1, 1), padding=(1, 1), bias=False)\n",
       "      (bn1): BatchNorm2d(512, eps=1e-05, momentum=0.1, affine=True, track_running_stats=True)\n",
       "      (relu): ReLU(inplace=True)\n",
       "      (conv2): Conv2d(512, 512, kernel_size=(3, 3), stride=(1, 1), padding=(1, 1), bias=False)\n",
       "      (bn2): BatchNorm2d(512, eps=1e-05, momentum=0.1, affine=True, track_running_stats=True)\n",
       "    )\n",
       "  )\n",
       "  (avgpool): AdaptiveAvgPool2d(output_size=(1, 1))\n",
       "  (fc): Linear(in_features=512, out_features=10, bias=True)\n",
       ")"
      ]
     },
     "execution_count": 14,
     "metadata": {},
     "output_type": "execute_result"
    }
   ],
   "source": [
    "criterion = nn.CrossEntropyLoss()\n",
    "optimizer = optim.SGD(model.parameters(), lr=0.001, momentum=0.9)\n",
    "device = torch.device(\"cuda\" if torch.cuda.is_available() else \"cpu\")\n",
    "model.to(device)\n",
    "\n",
    "# Inside the training loop"
   ]
  },
  {
   "cell_type": "markdown",
   "metadata": {},
   "source": [
    "<h3> Train the Model"
   ]
  },
  {
   "cell_type": "code",
   "execution_count": 15,
   "metadata": {},
   "outputs": [
    {
     "name": "stdout",
     "output_type": "stream",
     "text": [
      "Epoch [1/10], Batch [200/5000], Loss: 2.3887\n",
      "Epoch [1/10], Batch [400/5000], Loss: 2.2685\n",
      "Epoch [1/10], Batch [600/5000], Loss: 2.0885\n",
      "Epoch [1/10], Batch [800/5000], Loss: 1.9139\n",
      "Epoch [1/10], Batch [1000/5000], Loss: 1.8757\n",
      "Epoch [1/10], Batch [1200/5000], Loss: 1.8817\n",
      "Epoch [1/10], Batch [1400/5000], Loss: 1.8212\n",
      "Epoch [1/10], Batch [1600/5000], Loss: 1.7804\n",
      "Epoch [1/10], Batch [1800/5000], Loss: 1.7696\n",
      "Epoch [1/10], Batch [2000/5000], Loss: 1.7306\n",
      "Epoch [1/10], Batch [2200/5000], Loss: 1.7500\n",
      "Epoch [1/10], Batch [2400/5000], Loss: 1.7533\n",
      "Epoch [1/10], Batch [2600/5000], Loss: 1.6472\n",
      "Epoch [1/10], Batch [2800/5000], Loss: 1.6794\n",
      "Epoch [1/10], Batch [3000/5000], Loss: 1.6589\n",
      "Epoch [1/10], Batch [3200/5000], Loss: 1.6449\n",
      "Epoch [1/10], Batch [3400/5000], Loss: 1.5983\n",
      "Epoch [1/10], Batch [3600/5000], Loss: 1.6045\n",
      "Epoch [1/10], Batch [3800/5000], Loss: 1.5941\n",
      "Epoch [1/10], Batch [4000/5000], Loss: 1.6018\n",
      "Epoch [1/10], Batch [4200/5000], Loss: 1.5918\n",
      "Epoch [1/10], Batch [4400/5000], Loss: 1.5773\n",
      "Epoch [1/10], Batch [4600/5000], Loss: 1.4837\n",
      "Epoch [1/10], Batch [4800/5000], Loss: 1.5491\n",
      "Epoch [1/10], Batch [5000/5000], Loss: 1.5277\n",
      "Epoch [2/10], Batch [200/5000], Loss: 1.3981\n",
      "Epoch [2/10], Batch [400/5000], Loss: 1.4774\n",
      "Epoch [2/10], Batch [600/5000], Loss: 1.4786\n",
      "Epoch [2/10], Batch [800/5000], Loss: 1.3979\n",
      "Epoch [2/10], Batch [1000/5000], Loss: 1.4271\n",
      "Epoch [2/10], Batch [1200/5000], Loss: 1.4078\n",
      "Epoch [2/10], Batch [1400/5000], Loss: 1.3727\n",
      "Epoch [2/10], Batch [1600/5000], Loss: 1.3802\n",
      "Epoch [2/10], Batch [1800/5000], Loss: 1.4013\n",
      "Epoch [2/10], Batch [2000/5000], Loss: 1.3749\n",
      "Epoch [2/10], Batch [2200/5000], Loss: 1.3951\n",
      "Epoch [2/10], Batch [2400/5000], Loss: 1.4116\n",
      "Epoch [2/10], Batch [2600/5000], Loss: 1.3717\n",
      "Epoch [2/10], Batch [2800/5000], Loss: 1.3854\n",
      "Epoch [2/10], Batch [3000/5000], Loss: 1.3571\n",
      "Epoch [2/10], Batch [3200/5000], Loss: 1.3444\n",
      "Epoch [2/10], Batch [3400/5000], Loss: 1.3854\n",
      "Epoch [2/10], Batch [3600/5000], Loss: 1.3318\n",
      "Epoch [2/10], Batch [3800/5000], Loss: 1.3478\n",
      "Epoch [2/10], Batch [4000/5000], Loss: 1.2983\n",
      "Epoch [2/10], Batch [4200/5000], Loss: 1.3315\n",
      "Epoch [2/10], Batch [4400/5000], Loss: 1.2413\n",
      "Epoch [2/10], Batch [4600/5000], Loss: 1.2707\n",
      "Epoch [2/10], Batch [4800/5000], Loss: 1.3004\n",
      "Epoch [2/10], Batch [5000/5000], Loss: 1.2257\n",
      "Epoch [3/10], Batch [200/5000], Loss: 1.1418\n",
      "Epoch [3/10], Batch [400/5000], Loss: 1.2596\n",
      "Epoch [3/10], Batch [600/5000], Loss: 1.1632\n",
      "Epoch [3/10], Batch [800/5000], Loss: 1.1493\n",
      "Epoch [3/10], Batch [1000/5000], Loss: 1.1423\n",
      "Epoch [3/10], Batch [1200/5000], Loss: 1.1699\n",
      "Epoch [3/10], Batch [1400/5000], Loss: 1.1609\n",
      "Epoch [3/10], Batch [1600/5000], Loss: 1.1486\n",
      "Epoch [3/10], Batch [1800/5000], Loss: 1.1871\n",
      "Epoch [3/10], Batch [2000/5000], Loss: 1.2089\n",
      "Epoch [3/10], Batch [2200/5000], Loss: 1.1794\n",
      "Epoch [3/10], Batch [2400/5000], Loss: 1.1819\n",
      "Epoch [3/10], Batch [2600/5000], Loss: 1.1462\n",
      "Epoch [3/10], Batch [2800/5000], Loss: 1.1653\n",
      "Epoch [3/10], Batch [3000/5000], Loss: 1.1238\n",
      "Epoch [3/10], Batch [3200/5000], Loss: 1.1585\n",
      "Epoch [3/10], Batch [3400/5000], Loss: 1.0897\n",
      "Epoch [3/10], Batch [3600/5000], Loss: 1.1438\n",
      "Epoch [3/10], Batch [3800/5000], Loss: 1.1158\n",
      "Epoch [3/10], Batch [4000/5000], Loss: 1.0992\n",
      "Epoch [3/10], Batch [4200/5000], Loss: 1.0750\n",
      "Epoch [3/10], Batch [4400/5000], Loss: 1.1426\n",
      "Epoch [3/10], Batch [4600/5000], Loss: 1.1576\n",
      "Epoch [3/10], Batch [4800/5000], Loss: 1.1136\n",
      "Epoch [3/10], Batch [5000/5000], Loss: 1.0528\n",
      "Epoch [4/10], Batch [200/5000], Loss: 1.0428\n",
      "Epoch [4/10], Batch [400/5000], Loss: 0.9993\n",
      "Epoch [4/10], Batch [600/5000], Loss: 1.0330\n",
      "Epoch [4/10], Batch [800/5000], Loss: 0.9735\n",
      "Epoch [4/10], Batch [1000/5000], Loss: 1.0750\n",
      "Epoch [4/10], Batch [1200/5000], Loss: 1.0330\n",
      "Epoch [4/10], Batch [1400/5000], Loss: 1.0235\n",
      "Epoch [4/10], Batch [1600/5000], Loss: 1.0193\n",
      "Epoch [4/10], Batch [1800/5000], Loss: 0.9878\n",
      "Epoch [4/10], Batch [2000/5000], Loss: 1.0298\n",
      "Epoch [4/10], Batch [2200/5000], Loss: 1.0455\n",
      "Epoch [4/10], Batch [2400/5000], Loss: 0.9751\n",
      "Epoch [4/10], Batch [2600/5000], Loss: 0.9958\n",
      "Epoch [4/10], Batch [2800/5000], Loss: 0.9796\n",
      "Epoch [4/10], Batch [3000/5000], Loss: 1.0236\n",
      "Epoch [4/10], Batch [3200/5000], Loss: 0.9582\n",
      "Epoch [4/10], Batch [3400/5000], Loss: 0.9507\n",
      "Epoch [4/10], Batch [3600/5000], Loss: 0.9631\n",
      "Epoch [4/10], Batch [3800/5000], Loss: 0.9710\n",
      "Epoch [4/10], Batch [4000/5000], Loss: 0.9809\n",
      "Epoch [4/10], Batch [4200/5000], Loss: 0.9962\n",
      "Epoch [4/10], Batch [4400/5000], Loss: 0.9865\n",
      "Epoch [4/10], Batch [4600/5000], Loss: 0.9606\n",
      "Epoch [4/10], Batch [4800/5000], Loss: 0.9925\n",
      "Epoch [4/10], Batch [5000/5000], Loss: 0.9914\n",
      "Epoch [5/10], Batch [200/5000], Loss: 0.8652\n",
      "Epoch [5/10], Batch [400/5000], Loss: 0.8480\n",
      "Epoch [5/10], Batch [600/5000], Loss: 0.8852\n",
      "Epoch [5/10], Batch [800/5000], Loss: 0.8762\n",
      "Epoch [5/10], Batch [1000/5000], Loss: 0.9664\n",
      "Epoch [5/10], Batch [1200/5000], Loss: 0.8676\n",
      "Epoch [5/10], Batch [1400/5000], Loss: 0.8945\n",
      "Epoch [5/10], Batch [1600/5000], Loss: 0.9124\n",
      "Epoch [5/10], Batch [1800/5000], Loss: 0.9732\n",
      "Epoch [5/10], Batch [2000/5000], Loss: 0.8658\n",
      "Epoch [5/10], Batch [2200/5000], Loss: 0.8738\n",
      "Epoch [5/10], Batch [2400/5000], Loss: 0.8988\n",
      "Epoch [5/10], Batch [2600/5000], Loss: 0.8787\n",
      "Epoch [5/10], Batch [2800/5000], Loss: 0.8409\n",
      "Epoch [5/10], Batch [3000/5000], Loss: 0.8742\n",
      "Epoch [5/10], Batch [3200/5000], Loss: 0.8341\n",
      "Epoch [5/10], Batch [3400/5000], Loss: 0.8629\n",
      "Epoch [5/10], Batch [3600/5000], Loss: 0.9296\n",
      "Epoch [5/10], Batch [3800/5000], Loss: 0.8297\n",
      "Epoch [5/10], Batch [4000/5000], Loss: 0.8524\n",
      "Epoch [5/10], Batch [4200/5000], Loss: 0.8671\n",
      "Epoch [5/10], Batch [4400/5000], Loss: 0.8413\n",
      "Epoch [5/10], Batch [4600/5000], Loss: 0.8683\n",
      "Epoch [5/10], Batch [4800/5000], Loss: 0.8899\n",
      "Epoch [5/10], Batch [5000/5000], Loss: 0.9069\n",
      "Epoch [6/10], Batch [200/5000], Loss: 0.7284\n",
      "Epoch [6/10], Batch [400/5000], Loss: 0.7695\n",
      "Epoch [6/10], Batch [600/5000], Loss: 0.7481\n",
      "Epoch [6/10], Batch [800/5000], Loss: 0.6974\n",
      "Epoch [6/10], Batch [1000/5000], Loss: 0.7602\n",
      "Epoch [6/10], Batch [1200/5000], Loss: 0.7509\n",
      "Epoch [6/10], Batch [1400/5000], Loss: 0.7881\n",
      "Epoch [6/10], Batch [1600/5000], Loss: 0.7252\n",
      "Epoch [6/10], Batch [1800/5000], Loss: 0.7758\n",
      "Epoch [6/10], Batch [2000/5000], Loss: 0.7465\n",
      "Epoch [6/10], Batch [2200/5000], Loss: 0.8013\n",
      "Epoch [6/10], Batch [2400/5000], Loss: 0.8275\n",
      "Epoch [6/10], Batch [2600/5000], Loss: 0.8159\n",
      "Epoch [6/10], Batch [2800/5000], Loss: 0.8129\n",
      "Epoch [6/10], Batch [3000/5000], Loss: 0.7911\n",
      "Epoch [6/10], Batch [3200/5000], Loss: 0.8203\n",
      "Epoch [6/10], Batch [3400/5000], Loss: 0.7874\n",
      "Epoch [6/10], Batch [3600/5000], Loss: 0.7934\n",
      "Epoch [6/10], Batch [3800/5000], Loss: 0.8291\n",
      "Epoch [6/10], Batch [4000/5000], Loss: 0.7584\n",
      "Epoch [6/10], Batch [4200/5000], Loss: 0.7919\n",
      "Epoch [6/10], Batch [4400/5000], Loss: 0.8049\n",
      "Epoch [6/10], Batch [4600/5000], Loss: 0.8031\n",
      "Epoch [6/10], Batch [4800/5000], Loss: 0.7937\n",
      "Epoch [6/10], Batch [5000/5000], Loss: 0.8008\n",
      "Epoch [7/10], Batch [200/5000], Loss: 0.6757\n",
      "Epoch [7/10], Batch [400/5000], Loss: 0.6751\n",
      "Epoch [7/10], Batch [600/5000], Loss: 0.6819\n",
      "Epoch [7/10], Batch [800/5000], Loss: 0.6738\n",
      "Epoch [7/10], Batch [1000/5000], Loss: 0.7167\n",
      "Epoch [7/10], Batch [1200/5000], Loss: 0.6809\n",
      "Epoch [7/10], Batch [1400/5000], Loss: 0.7351\n",
      "Epoch [7/10], Batch [1600/5000], Loss: 0.7198\n",
      "Epoch [7/10], Batch [1800/5000], Loss: 0.7091\n",
      "Epoch [7/10], Batch [2000/5000], Loss: 0.6928\n",
      "Epoch [7/10], Batch [2200/5000], Loss: 0.6944\n",
      "Epoch [7/10], Batch [2400/5000], Loss: 0.7098\n",
      "Epoch [7/10], Batch [2600/5000], Loss: 0.7247\n",
      "Epoch [7/10], Batch [2800/5000], Loss: 0.7322\n",
      "Epoch [7/10], Batch [3000/5000], Loss: 0.7033\n",
      "Epoch [7/10], Batch [3200/5000], Loss: 0.6875\n",
      "Epoch [7/10], Batch [3400/5000], Loss: 0.7401\n",
      "Epoch [7/10], Batch [3600/5000], Loss: 0.7027\n",
      "Epoch [7/10], Batch [3800/5000], Loss: 0.7316\n",
      "Epoch [7/10], Batch [4000/5000], Loss: 0.7347\n",
      "Epoch [7/10], Batch [4200/5000], Loss: 0.6990\n",
      "Epoch [7/10], Batch [4400/5000], Loss: 0.7146\n",
      "Epoch [7/10], Batch [4600/5000], Loss: 0.7116\n",
      "Epoch [7/10], Batch [4800/5000], Loss: 0.6534\n",
      "Epoch [7/10], Batch [5000/5000], Loss: 0.7351\n",
      "Epoch [8/10], Batch [200/5000], Loss: 0.5662\n",
      "Epoch [8/10], Batch [400/5000], Loss: 0.5083\n",
      "Epoch [8/10], Batch [600/5000], Loss: 0.5568\n",
      "Epoch [8/10], Batch [800/5000], Loss: 0.5246\n",
      "Epoch [8/10], Batch [1000/5000], Loss: 0.6621\n",
      "Epoch [8/10], Batch [1200/5000], Loss: 0.6269\n",
      "Epoch [8/10], Batch [1400/5000], Loss: 0.6106\n",
      "Epoch [8/10], Batch [1600/5000], Loss: 0.5573\n",
      "Epoch [8/10], Batch [1800/5000], Loss: 0.5649\n",
      "Epoch [8/10], Batch [2000/5000], Loss: 0.6506\n",
      "Epoch [8/10], Batch [2200/5000], Loss: 0.6238\n",
      "Epoch [8/10], Batch [2400/5000], Loss: 0.6210\n",
      "Epoch [8/10], Batch [2600/5000], Loss: 0.6945\n",
      "Epoch [8/10], Batch [2800/5000], Loss: 0.6344\n",
      "Epoch [8/10], Batch [3000/5000], Loss: 0.6402\n",
      "Epoch [8/10], Batch [3200/5000], Loss: 0.6297\n",
      "Epoch [8/10], Batch [3400/5000], Loss: 0.6315\n",
      "Epoch [8/10], Batch [3600/5000], Loss: 0.6692\n",
      "Epoch [8/10], Batch [3800/5000], Loss: 0.6116\n",
      "Epoch [8/10], Batch [4000/5000], Loss: 0.6335\n",
      "Epoch [8/10], Batch [4200/5000], Loss: 0.6554\n",
      "Epoch [8/10], Batch [4400/5000], Loss: 0.6759\n",
      "Epoch [8/10], Batch [4600/5000], Loss: 0.6729\n",
      "Epoch [8/10], Batch [4800/5000], Loss: 0.6563\n",
      "Epoch [8/10], Batch [5000/5000], Loss: 0.6373\n",
      "Epoch [9/10], Batch [200/5000], Loss: 0.5216\n",
      "Epoch [9/10], Batch [400/5000], Loss: 0.4696\n",
      "Epoch [9/10], Batch [600/5000], Loss: 0.5303\n",
      "Epoch [9/10], Batch [800/5000], Loss: 0.5328\n",
      "Epoch [9/10], Batch [1000/5000], Loss: 0.5176\n",
      "Epoch [9/10], Batch [1200/5000], Loss: 0.5450\n",
      "Epoch [9/10], Batch [1400/5000], Loss: 0.5356\n",
      "Epoch [9/10], Batch [1600/5000], Loss: 0.5299\n",
      "Epoch [9/10], Batch [1800/5000], Loss: 0.5525\n",
      "Epoch [9/10], Batch [2000/5000], Loss: 0.5106\n",
      "Epoch [9/10], Batch [2200/5000], Loss: 0.5371\n",
      "Epoch [9/10], Batch [2400/5000], Loss: 0.5340\n",
      "Epoch [9/10], Batch [2600/5000], Loss: 0.5479\n",
      "Epoch [9/10], Batch [2800/5000], Loss: 0.5242\n",
      "Epoch [9/10], Batch [3000/5000], Loss: 0.5432\n",
      "Epoch [9/10], Batch [3200/5000], Loss: 0.5758\n",
      "Epoch [9/10], Batch [3400/5000], Loss: 0.5977\n",
      "Epoch [9/10], Batch [3600/5000], Loss: 0.6168\n",
      "Epoch [9/10], Batch [3800/5000], Loss: 0.5700\n",
      "Epoch [9/10], Batch [4000/5000], Loss: 0.5753\n",
      "Epoch [9/10], Batch [4200/5000], Loss: 0.5862\n",
      "Epoch [9/10], Batch [4400/5000], Loss: 0.5590\n",
      "Epoch [9/10], Batch [4600/5000], Loss: 0.5683\n",
      "Epoch [9/10], Batch [4800/5000], Loss: 0.6192\n",
      "Epoch [9/10], Batch [5000/5000], Loss: 0.6160\n",
      "Epoch [10/10], Batch [200/5000], Loss: 0.4455\n",
      "Epoch [10/10], Batch [400/5000], Loss: 0.4137\n",
      "Epoch [10/10], Batch [600/5000], Loss: 0.3632\n",
      "Epoch [10/10], Batch [800/5000], Loss: 0.4333\n",
      "Epoch [10/10], Batch [1000/5000], Loss: 0.5066\n",
      "Epoch [10/10], Batch [1200/5000], Loss: 0.4565\n",
      "Epoch [10/10], Batch [1400/5000], Loss: 0.4408\n",
      "Epoch [10/10], Batch [1600/5000], Loss: 0.5057\n",
      "Epoch [10/10], Batch [1800/5000], Loss: 0.4702\n",
      "Epoch [10/10], Batch [2000/5000], Loss: 0.5171\n",
      "Epoch [10/10], Batch [2200/5000], Loss: 0.4270\n",
      "Epoch [10/10], Batch [2400/5000], Loss: 0.4817\n",
      "Epoch [10/10], Batch [2600/5000], Loss: 0.4778\n",
      "Epoch [10/10], Batch [2800/5000], Loss: 0.4684\n",
      "Epoch [10/10], Batch [3000/5000], Loss: 0.4664\n",
      "Epoch [10/10], Batch [3200/5000], Loss: 0.5084\n",
      "Epoch [10/10], Batch [3400/5000], Loss: 0.5212\n",
      "Epoch [10/10], Batch [3600/5000], Loss: 0.5365\n",
      "Epoch [10/10], Batch [3800/5000], Loss: 0.5644\n",
      "Epoch [10/10], Batch [4000/5000], Loss: 0.5010\n",
      "Epoch [10/10], Batch [4200/5000], Loss: 0.5123\n",
      "Epoch [10/10], Batch [4400/5000], Loss: 0.5084\n",
      "Epoch [10/10], Batch [4600/5000], Loss: 0.5377\n",
      "Epoch [10/10], Batch [4800/5000], Loss: 0.4837\n",
      "Epoch [10/10], Batch [5000/5000], Loss: 0.5639\n"
     ]
    }
   ],
   "source": [
    "num_epochs = 10\n",
    "\n",
    "for epoch in range(num_epochs):\n",
    "    running_loss = 0.0\n",
    "    for i, data in enumerate(train_loader, 0):\n",
    "        inputs, labels = data[0].to(device), data[1].to(device)\n",
    "\n",
    "        optimizer.zero_grad()\n",
    "\n",
    "        outputs = model(inputs)\n",
    "        loss = criterion(outputs, labels)\n",
    "        loss.backward()\n",
    "        optimizer.step()\n",
    "        \n",
    "        running_loss += loss.item()\n",
    "        if i % 200 == 199:  # Print the running loss every 200 mini-batches\n",
    "            print(f'Epoch [{epoch+1}/{num_epochs}], Batch [{i+1}/{len(train_loader)}], Loss: {running_loss/200:.4f}')\n",
    "            running_loss = 0.0"
   ]
  },
  {
   "cell_type": "code",
   "execution_count": 16,
   "metadata": {},
   "outputs": [
    {
     "name": "stdout",
     "output_type": "stream",
     "text": [
      "Accuracy on the validation dataset: 71.08%\n"
     ]
    }
   ],
   "source": [
    "model.eval()\n",
    "correct = 0\n",
    "total = 0\n",
    "\n",
    "with torch.no_grad():\n",
    "    for data in val_loader:\n",
    "        images, labels = data[0].to(device), data[1].to(device)\n",
    "        outputs = model(images)\n",
    "        _, predicted = torch.max(outputs.data, 1)\n",
    "        total += labels.size(0)\n",
    "        correct += (predicted == labels).sum().item()\n",
    "\n",
    "accuracy = 100 * correct / total\n",
    "print(f'Accuracy on the validation dataset: {accuracy:.2f}%')"
   ]
  },
  {
   "cell_type": "code",
   "execution_count": 17,
   "metadata": {},
   "outputs": [
    {
     "name": "stdout",
     "output_type": "stream",
     "text": [
      "Accuracy on the validation dataset: 71.27%\n"
     ]
    }
   ],
   "source": [
    "with torch.no_grad():\n",
    "    for data in testloader:\n",
    "        images, labels = data[0].to(device), data[1].to(device)\n",
    "        outputs = model(images)\n",
    "        _, predicted = torch.max(outputs.data, 1)\n",
    "        total += labels.size(0)\n",
    "        correct += (predicted == labels).sum().item()\n",
    "\n",
    "accuracy = 100 * correct / total\n",
    "print(f'Accuracy on the validation dataset: {accuracy:.2f}%')"
   ]
  },
  {
   "cell_type": "code",
   "execution_count": 21,
   "metadata": {},
   "outputs": [
    {
     "data": {
      "text/plain": [
       "10"
      ]
     },
     "execution_count": 21,
     "metadata": {},
     "output_type": "execute_result"
    }
   ],
   "source": [
    "model.fc.out_features"
   ]
  },
  {
   "cell_type": "markdown",
   "metadata": {},
   "source": [
    "# LeNet"
   ]
  },
  {
   "cell_type": "markdown",
   "metadata": {},
   "source": [
    "- In this part, we define the LeNet model using the nn.Module class, which is the base class for all neural network models in PyTorch. The LeNet model consists of two main parts: the feature extraction layers (self.features) and the classifier layers (self.classifier).\n",
    "\n",
    "- The feature extraction layers contain convolutional and pooling operations. These layers extract relevant features from the input images. The classifier layers consist of fully connected (linear) layers that perform the final classification based on the extracted features.\n",
    "\n",
    "<h3> Implementing the Forward Pass</h3>\n",
    "\n",
    "- The forward method defines the forward pass computation of the model. \n",
    "\n",
    "- It specifies how the input x flows through the different layers of the model. </li>\n",
    "\n",
    "- In this case, the input x is passed through the feature extraction layers (self.features), reshaped using view to flatten the output, and then passed through the classifier layers (self.classifier) to obtain the final output."
   ]
  },
  {
   "cell_type": "code",
   "execution_count": 18,
   "metadata": {},
   "outputs": [],
   "source": [
    "from LeNet import LeNet"
   ]
  },
  {
   "cell_type": "markdown",
   "metadata": {},
   "source": [
    "<h3>Loading the Model"
   ]
  },
  {
   "cell_type": "code",
   "execution_count": 19,
   "metadata": {},
   "outputs": [],
   "source": [
    "model_LeNet = LeNet(num_classes=10)\n",
    "\n",
    "# Step 3: Modify the last layer of the model for 10 output classes\n",
    "model_LeNet.classifier[4] = nn.Linear(84, 10)"
   ]
  },
  {
   "cell_type": "code",
   "execution_count": 20,
   "metadata": {},
   "outputs": [
    {
     "data": {
      "text/plain": [
       "LeNet(\n",
       "  (features): Sequential(\n",
       "    (0): Conv2d(3, 6, kernel_size=(5, 5), stride=(1, 1))\n",
       "    (1): ReLU(inplace=True)\n",
       "    (2): MaxPool2d(kernel_size=2, stride=2, padding=0, dilation=1, ceil_mode=False)\n",
       "    (3): Conv2d(6, 16, kernel_size=(5, 5), stride=(1, 1))\n",
       "    (4): ReLU(inplace=True)\n",
       "    (5): MaxPool2d(kernel_size=2, stride=2, padding=0, dilation=1, ceil_mode=False)\n",
       "  )\n",
       "  (classifier): Sequential(\n",
       "    (0): Linear(in_features=400, out_features=120, bias=True)\n",
       "    (1): ReLU(inplace=True)\n",
       "    (2): Linear(in_features=120, out_features=84, bias=True)\n",
       "    (3): ReLU(inplace=True)\n",
       "    (4): Linear(in_features=84, out_features=10, bias=True)\n",
       "  )\n",
       ")"
      ]
     },
     "execution_count": 20,
     "metadata": {},
     "output_type": "execute_result"
    }
   ],
   "source": [
    "device1 = torch.device(\"cuda\" if torch.cuda.is_available() else \"cpu\")\n",
    "model_LeNet.to(device1)\n",
    "\n",
    "# Inside the training loop\n"
   ]
  },
  {
   "cell_type": "markdown",
   "metadata": {},
   "source": [
    "<h3>Optimizer and Loss</h3>\n",
    "\n",
    "-  The optimizer's gradients are reset (optimizer.zero_grad()), and the model's forward pass is computed (outputs = model(inputs)).\n",
    "- The loss is calculated by comparing the predicted outputs with the ground truth labels (loss = criterion(outputs, labels)).\n",
    "- The gradients are computed (loss.backward()) and the optimizer updates the model's parameters based on the gradients (optimizer.step()).\n",
    "- The running loss is tracked and printed periodically."
   ]
  },
  {
   "cell_type": "code",
   "execution_count": 23,
   "metadata": {},
   "outputs": [],
   "source": [
    "criterion = nn.CrossEntropyLoss()\n",
    "optimizer = optim.SGD(model_LeNet.parameters(), lr=0.025, momentum=0.4)"
   ]
  },
  {
   "cell_type": "code",
   "execution_count": 24,
   "metadata": {},
   "outputs": [
    {
     "name": "stdout",
     "output_type": "stream",
     "text": [
      "Epoch [1/10], Batch [200/5000], Loss: 0.9740\n",
      "Epoch [1/10], Batch [400/5000], Loss: 0.9782\n",
      "Epoch [1/10], Batch [600/5000], Loss: 0.9841\n",
      "Epoch [1/10], Batch [800/5000], Loss: 0.9998\n",
      "Epoch [1/10], Batch [1000/5000], Loss: 1.0186\n",
      "Epoch [1/10], Batch [1200/5000], Loss: 0.9693\n",
      "Epoch [1/10], Batch [1400/5000], Loss: 1.0097\n",
      "Epoch [1/10], Batch [1600/5000], Loss: 1.0552\n",
      "Epoch [1/10], Batch [1800/5000], Loss: 0.9848\n",
      "Epoch [1/10], Batch [2000/5000], Loss: 1.0498\n",
      "Epoch [1/10], Batch [2200/5000], Loss: 0.9613\n",
      "Epoch [1/10], Batch [2400/5000], Loss: 1.0364\n",
      "Epoch [1/10], Batch [2600/5000], Loss: 1.0232\n",
      "Epoch [1/10], Batch [2800/5000], Loss: 1.0506\n",
      "Epoch [1/10], Batch [3000/5000], Loss: 1.0544\n",
      "Epoch [1/10], Batch [3200/5000], Loss: 1.0625\n",
      "Epoch [1/10], Batch [3400/5000], Loss: 0.9721\n",
      "Epoch [1/10], Batch [3600/5000], Loss: 1.0840\n",
      "Epoch [1/10], Batch [3800/5000], Loss: 1.0420\n",
      "Epoch [1/10], Batch [4000/5000], Loss: 1.0320\n",
      "Epoch [1/10], Batch [4200/5000], Loss: 0.9931\n",
      "Epoch [1/10], Batch [4400/5000], Loss: 1.0839\n",
      "Epoch [1/10], Batch [4600/5000], Loss: 1.0260\n",
      "Epoch [1/10], Batch [4800/5000], Loss: 1.0807\n",
      "Epoch [1/10], Batch [5000/5000], Loss: 1.0348\n",
      "Epoch [2/10], Batch [200/5000], Loss: 0.9354\n",
      "Epoch [2/10], Batch [400/5000], Loss: 0.9252\n",
      "Epoch [2/10], Batch [600/5000], Loss: 0.9517\n",
      "Epoch [2/10], Batch [800/5000], Loss: 0.9179\n",
      "Epoch [2/10], Batch [1000/5000], Loss: 0.9841\n",
      "Epoch [2/10], Batch [1200/5000], Loss: 0.9774\n",
      "Epoch [2/10], Batch [1400/5000], Loss: 0.9804\n",
      "Epoch [2/10], Batch [1600/5000], Loss: 1.0212\n",
      "Epoch [2/10], Batch [1800/5000], Loss: 0.9355\n",
      "Epoch [2/10], Batch [2000/5000], Loss: 0.9810\n",
      "Epoch [2/10], Batch [2200/5000], Loss: 0.9558\n",
      "Epoch [2/10], Batch [2400/5000], Loss: 1.0285\n",
      "Epoch [2/10], Batch [2600/5000], Loss: 0.9815\n",
      "Epoch [2/10], Batch [2800/5000], Loss: 1.0057\n",
      "Epoch [2/10], Batch [3000/5000], Loss: 0.9913\n",
      "Epoch [2/10], Batch [3200/5000], Loss: 0.9765\n",
      "Epoch [2/10], Batch [3400/5000], Loss: 0.9557\n",
      "Epoch [2/10], Batch [3600/5000], Loss: 1.0258\n",
      "Epoch [2/10], Batch [3800/5000], Loss: 1.0150\n",
      "Epoch [2/10], Batch [4000/5000], Loss: 1.0592\n",
      "Epoch [2/10], Batch [4200/5000], Loss: 1.0221\n",
      "Epoch [2/10], Batch [4400/5000], Loss: 1.0437\n",
      "Epoch [2/10], Batch [4600/5000], Loss: 1.0188\n",
      "Epoch [2/10], Batch [4800/5000], Loss: 0.9727\n",
      "Epoch [2/10], Batch [5000/5000], Loss: 1.0199\n",
      "Epoch [3/10], Batch [200/5000], Loss: 0.8775\n",
      "Epoch [3/10], Batch [400/5000], Loss: 0.9109\n",
      "Epoch [3/10], Batch [600/5000], Loss: 0.8804\n",
      "Epoch [3/10], Batch [800/5000], Loss: 0.8706\n",
      "Epoch [3/10], Batch [1000/5000], Loss: 0.9998\n",
      "Epoch [3/10], Batch [1200/5000], Loss: 0.9132\n",
      "Epoch [3/10], Batch [1400/5000], Loss: 0.9763\n",
      "Epoch [3/10], Batch [1600/5000], Loss: 0.9278\n",
      "Epoch [3/10], Batch [1800/5000], Loss: 1.0135\n",
      "Epoch [3/10], Batch [2000/5000], Loss: 0.9700\n",
      "Epoch [3/10], Batch [2200/5000], Loss: 0.9676\n",
      "Epoch [3/10], Batch [2400/5000], Loss: 0.9778\n",
      "Epoch [3/10], Batch [2600/5000], Loss: 0.9278\n",
      "Epoch [3/10], Batch [2800/5000], Loss: 0.9993\n",
      "Epoch [3/10], Batch [3000/5000], Loss: 1.0490\n",
      "Epoch [3/10], Batch [3200/5000], Loss: 0.8939\n",
      "Epoch [3/10], Batch [3400/5000], Loss: 1.0535\n",
      "Epoch [3/10], Batch [3600/5000], Loss: 0.9902\n",
      "Epoch [3/10], Batch [3800/5000], Loss: 0.9955\n",
      "Epoch [3/10], Batch [4000/5000], Loss: 1.0019\n",
      "Epoch [3/10], Batch [4200/5000], Loss: 1.0176\n",
      "Epoch [3/10], Batch [4400/5000], Loss: 1.0301\n",
      "Epoch [3/10], Batch [4600/5000], Loss: 1.0583\n",
      "Epoch [3/10], Batch [4800/5000], Loss: 1.0237\n",
      "Epoch [3/10], Batch [5000/5000], Loss: 1.0625\n",
      "Epoch [4/10], Batch [200/5000], Loss: 0.8906\n",
      "Epoch [4/10], Batch [400/5000], Loss: 0.9167\n",
      "Epoch [4/10], Batch [600/5000], Loss: 0.9521\n",
      "Epoch [4/10], Batch [800/5000], Loss: 0.8541\n",
      "Epoch [4/10], Batch [1000/5000], Loss: 0.9007\n",
      "Epoch [4/10], Batch [1200/5000], Loss: 0.9592\n",
      "Epoch [4/10], Batch [1400/5000], Loss: 0.9695\n",
      "Epoch [4/10], Batch [1600/5000], Loss: 0.9787\n",
      "Epoch [4/10], Batch [1800/5000], Loss: 0.9984\n",
      "Epoch [4/10], Batch [2000/5000], Loss: 0.9763\n",
      "Epoch [4/10], Batch [2200/5000], Loss: 0.9931\n",
      "Epoch [4/10], Batch [2400/5000], Loss: 0.9439\n",
      "Epoch [4/10], Batch [2600/5000], Loss: 0.9594\n",
      "Epoch [4/10], Batch [2800/5000], Loss: 0.9100\n",
      "Epoch [4/10], Batch [3000/5000], Loss: 0.9387\n",
      "Epoch [4/10], Batch [3200/5000], Loss: 1.0227\n",
      "Epoch [4/10], Batch [3400/5000], Loss: 0.9772\n",
      "Epoch [4/10], Batch [3600/5000], Loss: 1.0124\n",
      "Epoch [4/10], Batch [3800/5000], Loss: 0.9680\n"
     ]
    }
   ],
   "source": [
    "num_epochs = 10\n",
    "for epoch in range(num_epochs):\n",
    "    running_loss = 0.0\n",
    "    for i, data in enumerate(train_loader, 0):\n",
    "        inputs, labels = data[0].to(device), data[1].to(device)\n",
    "\n",
    "        optimizer.zero_grad()\n",
    "\n",
    "        outputs = model_LeNet(inputs)\n",
    "        loss = criterion(outputs, labels)\n",
    "        loss.backward()\n",
    "        optimizer.step()\n",
    "\n",
    "        running_loss += loss.item()\n",
    "        if i % 200 == 199:  # Print the running loss every 200 mini-batches\n",
    "            print(f'Epoch [{epoch+1}/{num_epochs}], Batch [{i+1}/{len(train_loader)}], Loss: {running_loss/200:.4f}')\n",
    "            running_loss = 0.0\n",
    "\n",
    "print('Training finished.')"
   ]
  },
  {
   "cell_type": "markdown",
   "metadata": {},
   "source": [
    "<h3>Evaluating the trained model:</h3>\n",
    "\n",
    "- The code sets the model to evaluation mode (model.eval()).\n",
    "- It loops over the test dataset and performs inference using the trained model on each batch of data.\n",
    "- The predicted labels are compared with the ground truth labels to calculate the number of correct predictions.\n",
    "- The accuracy is computed by dividing the number of correct predictions by the total number of samples and multiplying by 100.\n",
    "- The accuracy on the validation dataset is printed."
   ]
  },
  {
   "cell_type": "code",
   "execution_count": null,
   "metadata": {},
   "outputs": [
    {
     "name": "stdout",
     "output_type": "stream",
     "text": [
      "Accuracy on the validation dataset: 58.17%\n"
     ]
    }
   ],
   "source": [
    "model_LeNet.eval()\n",
    "correct = 0\n",
    "total = 0\n",
    "\n",
    "with torch.no_grad():\n",
    "    for data in val_loader:\n",
    "        images, labels = data[0].to(device), data[1].to(device)\n",
    "        outputs = model_LeNet(images)\n",
    "        _, predicted = torch.max(outputs.data, 1)\n",
    "        total += labels.size(0)\n",
    "        correct += (predicted == labels).sum().item()\n",
    "\n",
    "accuracy = 100 * correct / total\n",
    "print(f'Accuracy on the validation dataset: {accuracy:.2f}%')"
   ]
  },
  {
   "cell_type": "markdown",
   "metadata": {},
   "source": [
    "# Saving the Models (Not Pruned)"
   ]
  },
  {
   "cell_type": "code",
   "execution_count": 48,
   "metadata": {},
   "outputs": [],
   "source": [
    "torch.save(model.state_dict(), 'models/modelResNet.pth')\n",
    "torch.save(model_LeNet.state_dict(), 'models/modelLeNet.pth')\n"
   ]
  }
 ],
 "metadata": {
  "kernelspec": {
   "display_name": "Python 3",
   "language": "python",
   "name": "python3"
  },
  "language_info": {
   "codemirror_mode": {
    "name": "ipython",
    "version": 3
   },
   "file_extension": ".py",
   "mimetype": "text/x-python",
   "name": "python",
   "nbconvert_exporter": "python",
   "pygments_lexer": "ipython3",
   "version": "3.11.4"
  },
  "orig_nbformat": 4
 },
 "nbformat": 4,
 "nbformat_minor": 2
}
