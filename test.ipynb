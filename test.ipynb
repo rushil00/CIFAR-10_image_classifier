{
 "cells": [
  {
   "cell_type": "markdown",
   "metadata": {},
   "source": [
    "### Here we will be testing the Serialized model(s) performance(s)"
   ]
  },
  {
   "cell_type": "code",
   "execution_count": 6,
   "metadata": {},
   "outputs": [],
   "source": [
    "import torch\n",
    "import torch.nn as nn\n",
    "from torchvision import transforms, datasets\n",
    "from PIL import Image\n",
    "import LeNet\n",
    "from torch.utils.data import DataLoader\n",
    "import random"
   ]
  },
  {
   "cell_type": "code",
   "execution_count": 25,
   "metadata": {},
   "outputs": [],
   "source": [
    "\n",
    "model = LeNet.LeNet()\n",
    "model.load_state_dict(torch.load('./models/modelLeNet.pth'))\n",
    "model.eval()\n",
    "transform = transforms.Compose([\n",
    "    transforms.Resize((32, 32)),\n",
    "    transforms.ToTensor(),\n",
    "])"
   ]
  },
  {
   "cell_type": "code",
   "execution_count": 26,
   "metadata": {},
   "outputs": [
    {
     "name": "stdout",
     "output_type": "stream",
     "text": [
      "Files already downloaded and verified\n"
     ]
    }
   ],
   "source": [
    "# Load CIFAR-10 test dataset\n",
    "test_dataset = datasets.CIFAR10(root='./data', train=False, download=True, transform=transform)\n",
    "\n",
    "# Define a DataLoader for the test dataset\n",
    "test_loader = DataLoader(test_dataset, batch_size=1, shuffle=True)\n"
   ]
  },
  {
   "cell_type": "code",
   "execution_count": 29,
   "metadata": {},
   "outputs": [
    {
     "name": "stdout",
     "output_type": "stream",
     "text": [
      "Predicted Class: cat\n",
      "True Class: deer\n"
     ]
    }
   ],
   "source": [
    "# Get a random test image\n",
    "random_index = random.randint(0, len(test_dataset)-1)\n",
    "input_image, true_label = test_dataset[random_index]\n",
    "\n",
    "# Make prediction\n",
    "with torch.no_grad():\n",
    "    output = model(input_image.unsqueeze(0))\n",
    "\n",
    "_, predicted_class = torch.max(output, 1)\n",
    "\n",
    "# Get class names\n",
    "class_names = test_dataset.classes\n",
    "\n",
    "# Convert tensor back to image\n",
    "input_image_ = transforms.ToPILImage()(input_image)\n",
    "\n",
    "# Display the image\n",
    "input_image_.show()\n",
    "\n",
    "# Print the predicted and true classes\n",
    "print(\"Predicted Class:\", class_names[predicted_class.item()])\n",
    "print(\"True Class:\", class_names[true_label])"
   ]
  }
 ],
 "metadata": {
  "kernelspec": {
   "display_name": "base",
   "language": "python",
   "name": "python3"
  },
  "language_info": {
   "codemirror_mode": {
    "name": "ipython",
    "version": 3
   },
   "file_extension": ".py",
   "mimetype": "text/x-python",
   "name": "python",
   "nbconvert_exporter": "python",
   "pygments_lexer": "ipython3",
   "version": "3.11.4"
  }
 },
 "nbformat": 4,
 "nbformat_minor": 2
}
